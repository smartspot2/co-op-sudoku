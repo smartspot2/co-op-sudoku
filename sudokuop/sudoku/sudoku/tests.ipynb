{
 "cells": [
  {
   "cell_type": "code",
   "execution_count": 1,
   "metadata": {},
   "outputs": [],
   "source": [
    "from sudoku_numpy import Board, Game, Solver\n",
    "import numpy as np\n",
    "import matplotlib.pyplot as plt\n",
    "import time"
   ]
  },
  {
   "cell_type": "code",
   "execution_count": 17,
   "metadata": {},
   "outputs": [
    {
     "name": "stdout",
     "output_type": "stream",
     "text": [
      "0.0037975311279296875\n",
      "1.833533763885498\n",
      "2.086636781692505\n"
     ]
    }
   ],
   "source": [
    "g = Game(num_players=5)\n",
    "st = time.time()\n",
    "g.generate_views(3)\n",
    "print(time.time() - st)\n",
    "s = Solver(g)\n",
    "\n",
    "st = time.time()\n",
    "solvable_boards, solvable_flats = s.generate()\n",
    "print(time.time() - st)\n",
    "\n",
    "st = time.time()\n",
    "solvable_boards, solvable_flats = s.generate_memo()\n",
    "print(time.time() - st)"
   ]
  },
  {
   "cell_type": "code",
   "execution_count": 14,
   "metadata": {},
   "outputs": [
    {
     "name": "stdout",
     "output_type": "stream",
     "text": [
      "0\n",
      "1\n",
      "2\n",
      "3\n",
      "4\n",
      "5\n",
      "6\n",
      "7\n",
      "8\n",
      "9\n",
      "10\n",
      "11\n",
      "12\n",
      "13\n",
      "14\n",
      "15\n",
      "16\n",
      "17\n",
      "18\n",
      "19\n",
      "20\n",
      "21\n",
      "22\n",
      "23\n",
      "24\n",
      "25\n",
      "26\n",
      "27\n",
      "28\n",
      "29\n",
      "30\n",
      "31\n",
      "32\n",
      "33\n",
      "34\n",
      "35\n",
      "36\n",
      "37\n",
      "38\n",
      "39\n",
      "40\n",
      "41\n",
      "42\n",
      "43\n",
      "44\n",
      "45\n",
      "46\n",
      "47\n",
      "48\n"
     ]
    }
   ],
   "source": []
  },
  {
   "cell_type": "code",
   "execution_count": null,
   "metadata": {},
   "outputs": [
    {
     "ename": "ValueError",
     "evalue": "'a' cannot be empty unless no samples are taken",
     "output_type": "error",
     "traceback": [
      "\u001b[0;31m---------------------------------------------------------------------------\u001b[0m",
      "\u001b[0;31mValueError\u001b[0m                                Traceback (most recent call last)",
      "\u001b[1;32m/home/jason/calhacks/sudokuop/sudokuop/sudoku/sudoku/tests.ipynb Cell 3\u001b[0m in \u001b[0;36m<cell line: 5>\u001b[0;34m()\u001b[0m\n\u001b[1;32m      <a href='vscode-notebook-cell://wsl%2Bubuntu/home/jason/calhacks/sudokuop/sudokuop/sudoku/sudoku/tests.ipynb#W2sdnNjb2RlLXJlbW90ZQ%3D%3D?line=2'>3</a>\u001b[0m g\u001b[39m.\u001b[39mgenerate_toy_view()\n\u001b[1;32m      <a href='vscode-notebook-cell://wsl%2Bubuntu/home/jason/calhacks/sudokuop/sudokuop/sudoku/sudoku/tests.ipynb#W2sdnNjb2RlLXJlbW90ZQ%3D%3D?line=3'>4</a>\u001b[0m gen \u001b[39m=\u001b[39m Generator(g)\n\u001b[0;32m----> <a href='vscode-notebook-cell://wsl%2Bubuntu/home/jason/calhacks/sudokuop/sudokuop/sudoku/sudoku/tests.ipynb#W2sdnNjb2RlLXJlbW90ZQ%3D%3D?line=4'>5</a>\u001b[0m gen\u001b[39m.\u001b[39;49m_generate_solved_board()\n\u001b[1;32m      <a href='vscode-notebook-cell://wsl%2Bubuntu/home/jason/calhacks/sudokuop/sudokuop/sudoku/sudoku/tests.ipynb#W2sdnNjb2RlLXJlbW90ZQ%3D%3D?line=5'>6</a>\u001b[0m gen\u001b[39m.\u001b[39mboard\u001b[39m.\u001b[39mflatten()\n",
      "File \u001b[0;32m~/calhacks/sudokuop/sudokuop/sudoku/sudoku/sudoku_numpy.py:201\u001b[0m, in \u001b[0;36mGenerator._generate_solved_board\u001b[0;34m(self)\u001b[0m\n\u001b[1;32m    199\u001b[0m \u001b[39mif\u001b[39;00m \u001b[39mnot\u001b[39;00m \u001b[39mself\u001b[39m\u001b[39m.\u001b[39mboard\u001b[39m.\u001b[39mcell_is_single(i, j):\n\u001b[1;32m    200\u001b[0m     candidates \u001b[39m=\u001b[39m \u001b[39mself\u001b[39m\u001b[39m.\u001b[39mboard\u001b[39m.\u001b[39mget_cell_candidates(i, j)\n\u001b[0;32m--> 201\u001b[0m     candidate \u001b[39m=\u001b[39m np\u001b[39m.\u001b[39;49mrandom\u001b[39m.\u001b[39;49mchoice(candidates)\n\u001b[1;32m    202\u001b[0m     \u001b[39mself\u001b[39m\u001b[39m.\u001b[39mboard\u001b[39m.\u001b[39mset_cell(i, j, candidate)\n\u001b[1;32m    203\u001b[0m     Solver\u001b[39m.\u001b[39mremove_matching_candidates_in_view(\u001b[39mself\u001b[39m\u001b[39m.\u001b[39mboard, i, j, entire_view)\n",
      "File \u001b[0;32mmtrand.pyx:915\u001b[0m, in \u001b[0;36mnumpy.random.mtrand.RandomState.choice\u001b[0;34m()\u001b[0m\n",
      "\u001b[0;31mValueError\u001b[0m: 'a' cannot be empty unless no samples are taken"
     ]
    }
   ],
   "source": [
    "g = Game()\n",
    "g.generate_toy_board()\n",
    "g.generate_toy_view()\n",
    "gen = Generator(g)\n",
    "gen._generate_solved_board()\n",
    "gen.board.flatten()"
   ]
  },
  {
   "cell_type": "code",
   "execution_count": null,
   "metadata": {},
   "outputs": [],
   "source": []
  },
  {
   "cell_type": "code",
   "execution_count": null,
   "metadata": {},
   "outputs": [],
   "source": []
  }
 ],
 "metadata": {
  "kernelspec": {
   "display_name": "Python 3.10.6 ('calhacks')",
   "language": "python",
   "name": "python3"
  },
  "language_info": {
   "codemirror_mode": {
    "name": "ipython",
    "version": 3
   },
   "file_extension": ".py",
   "mimetype": "text/x-python",
   "name": "python",
   "nbconvert_exporter": "python",
   "pygments_lexer": "ipython3",
   "version": "3.10.6"
  },
  "orig_nbformat": 4,
  "vscode": {
   "interpreter": {
    "hash": "54a039337bc9de4981462bb9e02732f8df4e1fe21840425f65ddf05beb023757"
   }
  }
 },
 "nbformat": 4,
 "nbformat_minor": 2
}
